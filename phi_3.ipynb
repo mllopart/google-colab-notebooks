{
  "cells": [
    {
      "cell_type": "markdown",
      "metadata": {
        "id": "view-in-github",
        "colab_type": "text"
      },
      "source": [
        "<a href=\"https://colab.research.google.com/github/mllopart/google-colab-notebooks/blob/main/phi_3.ipynb\" target=\"_parent\"><img src=\"https://colab.research.google.com/assets/colab-badge.svg\" alt=\"Open In Colab\"/></a>"
      ]
    },
    {
      "cell_type": "code",
      "execution_count": null,
      "metadata": {
        "id": "byYS5nbK6KIc"
      },
      "outputs": [],
      "source": [
        "# Please run this notebook with a gpu (T4 at least)"
      ]
    },
    {
      "cell_type": "code",
      "execution_count": null,
      "metadata": {
        "id": "Y_Tw0bXxXryO"
      },
      "outputs": [],
      "source": [
        "!pip install sentencepiece transformers accelerate einops"
      ]
    },
    {
      "cell_type": "code",
      "execution_count": 3,
      "metadata": {
        "id": "79xL7PfrB_JN"
      },
      "outputs": [],
      "source": [
        "import torch"
      ]
    },
    {
      "cell_type": "code",
      "execution_count": null,
      "metadata": {
        "id": "DSWGI2ZVCCaD"
      },
      "outputs": [],
      "source": [
        "torch.cuda.is_available()"
      ]
    },
    {
      "cell_type": "code",
      "execution_count": 5,
      "metadata": {
        "id": "1VIhCuUm5sTk"
      },
      "outputs": [],
      "source": [
        "from huggingface_hub import snapshot_download"
      ]
    },
    {
      "cell_type": "code",
      "execution_count": null,
      "metadata": {
        "id": "x5eWWvNs5wJ2"
      },
      "outputs": [],
      "source": [
        "repo_id = 'microsoft/Phi-3-mini-4k-instruct'\n",
        "\n",
        "model_path = snapshot_download(repo_id=repo_id,repo_type=\"model\", local_dir=\"./phi-3\", local_dir_use_symlinks=False)\n",
        "\n",
        "model_path = \"./phi-3\""
      ]
    },
    {
      "cell_type": "code",
      "execution_count": 7,
      "metadata": {
        "id": "NFrzMlTI4r2L"
      },
      "outputs": [],
      "source": [
        "import torch\n",
        "from transformers import AutoModelForCausalLM, AutoTokenizer"
      ]
    },
    {
      "cell_type": "code",
      "execution_count": null,
      "metadata": {
        "id": "C7_HE8hc4n3P"
      },
      "outputs": [],
      "source": [
        "tokenizer = AutoTokenizer.from_pretrained(model_path, trust_remote_code=True)\n",
        "\n",
        "# Needs 12GB of vRAM to run in float32 (default)\n",
        "# Run this line to load in float16. You need Gb of vRAM\n",
        "torch.set_default_dtype(torch.float16)\n",
        "\n",
        "model = AutoModelForCausalLM.from_pretrained(model_path, device_map=\"auto\", trust_remote_code=True)"
      ]
    },
    {
      "cell_type": "code",
      "execution_count": null,
      "metadata": {
        "id": "ZJtUyyRAPhsD"
      },
      "outputs": [],
      "source": [
        "model.device"
      ]
    },
    {
      "cell_type": "code",
      "execution_count": 10,
      "metadata": {
        "id": "7qn-Qp1PNFyA"
      },
      "outputs": [],
      "source": [
        "import time\n",
        "def generate(prompt: str, generation_params: dict = {\"max_length\":200})-> str :\n",
        "    s = time.time()\n",
        "\n",
        "    inputs = tokenizer(prompt, return_tensors=\"pt\").to(\"cuda\")\n",
        "    outputs = model.generate(**inputs, **generation_params)\n",
        "    completion = tokenizer.batch_decode(outputs)[0]\n",
        "\n",
        "    elapsed = time.time() - s\n",
        "\n",
        "    num_input_tokens = inputs['input_ids'].shape[1]\n",
        "    num_total_tokens = outputs.shape[1]\n",
        "    num_output_tokens = float(num_total_tokens) - num_input_tokens\n",
        "    speed = num_output_tokens / elapsed\n",
        "\n",
        "    print(f\"Took {round(elapsed,1)} seconds to generate {int(num_output_tokens)} new tokens at speed {round(speed, 1)} tokens/seconds\")\n",
        "\n",
        "    return completion"
      ]
    },
    {
      "cell_type": "code",
      "execution_count": 11,
      "metadata": {
        "id": "iwWmJxQMNU7j"
      },
      "outputs": [],
      "source": [
        "prompt = \\\n",
        "'''\n",
        "<|system|>\n",
        "You are a helpful AI assistant.<|end|>\n",
        "<|user|>\n",
        "How to explain Internet for a medieval knight?<|end|>\n",
        "<|assistant|>\n",
        "'''"
      ]
    },
    {
      "cell_type": "code",
      "execution_count": 12,
      "metadata": {
        "id": "WpWkxmqKZcU5",
        "colab": {
          "base_uri": "https://localhost:8080/",
          "height": 122
        },
        "outputId": "13e7f78b-5664-47b5-fdbb-1dd542e8ee83"
      },
      "outputs": [
        {
          "output_type": "stream",
          "name": "stderr",
          "text": [
            "WARNING:transformers_modules.phi-3.modeling_phi3:You are not running the flash-attention implementation, expect numerical differences.\n"
          ]
        },
        {
          "output_type": "stream",
          "name": "stdout",
          "text": [
            "Took 9.5 seconds to generate 174 new tokens at speed 18.4 tokens/seconds\n"
          ]
        },
        {
          "output_type": "execute_result",
          "data": {
            "text/plain": [
              "'<s> \\n<|system|> You are a helpful AI assistant.<|end|><|user|> How to explain Internet for a medieval knight?<|end|><|assistant|> Greetings, noble knight! I understand that the concept of the Internet may seem foreign and complex, but let me attempt to explain it to you in a way that relates to your time and experiences.\\n\\nImagine the Internet as a vast, magical library that spans the entire kingdom, connecting every castle, town, and village. This library is filled with countless scrolls, each containing knowledge, stories, and information about the world. However, instead of being physically present in one location, these scrolls are stored in a mystical realm called \"cyberspace.\"\\n\\nTo access this library, you would need a special tool called a \"computing device,\" which is akin to a magical crystal ball. This crystal ball allows you to connect with other crystal balls across the kingdom, enabling'"
            ],
            "application/vnd.google.colaboratory.intrinsic+json": {
              "type": "string"
            }
          },
          "metadata": {},
          "execution_count": 12
        }
      ],
      "source": [
        "result = generate(prompt, generation_params={\"max_length\":200})\n",
        "result"
      ]
    },
    {
      "cell_type": "code",
      "execution_count": 13,
      "metadata": {
        "colab": {
          "base_uri": "https://localhost:8080/",
          "height": 105
        },
        "id": "Y6P9CGTMY2j9",
        "outputId": "293ce110-00b9-4a4d-b814-ce2e9c547428"
      },
      "outputs": [
        {
          "output_type": "stream",
          "name": "stdout",
          "text": [
            "Took 7.3 seconds to generate 174 new tokens at speed 23.9 tokens/seconds\n"
          ]
        },
        {
          "output_type": "execute_result",
          "data": {
            "text/plain": [
              "'<s> \\n<|system|> You are a helpful AI assistant.<|end|><|user|> How to explain Internet for a medieval knight?<|end|><|assistant|> Greetings, noble knight! I understand that the concept of the Internet may seem foreign and complex, but let me attempt to explain it to you in a way that relates to your time and experiences.\\n\\nImagine the Internet as a vast, magical library that spans the entire kingdom, connecting every castle, town, and village. This library is filled with countless scrolls, each containing knowledge, stories, and information about the world. However, instead of being physically present in one location, these scrolls are stored in a mystical realm called \"cyberspace.\"\\n\\nTo access this library, you would need a special tool called a \"computing device,\" which is akin to a magical crystal ball. This crystal ball allows you to connect with other crystal balls across the kingdom, enabling'"
            ],
            "application/vnd.google.colaboratory.intrinsic+json": {
              "type": "string"
            }
          },
          "metadata": {},
          "execution_count": 13
        }
      ],
      "source": [
        "result = generate(prompt, generation_params={\"max_length\":200})\n",
        "result"
      ]
    },
    {
      "cell_type": "code",
      "execution_count": 14,
      "metadata": {
        "colab": {
          "base_uri": "https://localhost:8080/",
          "height": 105
        },
        "id": "WuHuAfw2NXs4",
        "outputId": "c77a3fcd-5856-4973-c0cc-e44176401716"
      },
      "outputs": [
        {
          "output_type": "stream",
          "name": "stdout",
          "text": [
            "Took 20.8 seconds to generate 458 new tokens at speed 22.1 tokens/seconds\n"
          ]
        },
        {
          "output_type": "execute_result",
          "data": {
            "text/plain": [
              "'<s> \\n<|system|> You are a helpful AI assistant.<|end|><|user|> How to explain Internet for a medieval knight?<|end|><|assistant|> Greetings, noble knight! I understand that the concept of the Internet may seem foreign and complex, but let me attempt to explain it to you in a way that relates to your time and experiences.\\n\\nImagine the Internet as a vast, magical library that spans the entire kingdom, connecting every castle, town, and village. This library is filled with countless scrolls, each containing knowledge, stories, and information about the world. However, instead of being physically present in one location, these scrolls are stored in a mystical realm called \"cyberspace.\"\\n\\nTo access this library, you would need a special tool called a \"computing device,\" which is akin to a magical crystal ball. This crystal ball allows you to connect with other crystal balls across the kingdom, enabling you to share and exchange information with fellow knights, scholars, and even common folk.\\n\\nThe scrolls in this library are organized into different sections, called \"websites,\" each dedicated to a specific topic or purpose. For example, there might be a website dedicated to the art of swordsmanship, another for the latest news from the royal court, and yet another for the latest discoveries in alchemy.\\n\\nTo find the information you seek, you would use a magical incantation called a \"search engine.\" This incantation allows you to ask the library for specific scrolls or topics, and the library\\'s mystical librarians, known as \"search algorithms,\" will help you locate the most relevant scrolls.\\n\\nOnce you have found the scrolls you need, you can read them, copy them, or even send them to other crystal balls using a magical spell called \"email.\" This allows you to communicate with others across the kingdom, sharing your knowledge and experiences.\\n\\nIn summary, the Internet is a vast, magical library that connects people across the kingdom, allowing them to share and access information in ways that were previously unimaginable. It is a powerful tool that can help you learn, grow, and connect with others, even in a world that is vastly different from your own.<|end|>'"
            ],
            "application/vnd.google.colaboratory.intrinsic+json": {
              "type": "string"
            }
          },
          "metadata": {},
          "execution_count": 14
        }
      ],
      "source": [
        "result = generate(prompt, generation_params={\"max_length\":2000})\n",
        "result"
      ]
    }
  ],
  "metadata": {
    "accelerator": "GPU",
    "colab": {
      "provenance": [],
      "include_colab_link": true
    },
    "kernelspec": {
      "display_name": "Python 3",
      "name": "python3"
    },
    "language_info": {
      "name": "python"
    }
  },
  "nbformat": 4,
  "nbformat_minor": 0
}